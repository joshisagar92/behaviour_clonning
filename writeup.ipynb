{
 "cells": [
  {
   "cell_type": "markdown",
   "metadata": {},
   "source": [
    "### Model Architecture and Training Strategy"
   ]
  },
  {
   "cell_type": "markdown",
   "metadata": {},
   "source": [
    "#### 1. An appropriate model architecture has been employed"
   ]
  },
  {
   "cell_type": "markdown",
   "metadata": {},
   "source": [
    "My model consisit of 5 * 5 kernal and filter size from 24 to 64.\n",
    "Activation I have used is relu and for normalization I have used lamda layer.\n",
    "At the end I have used dense layer from 100, 50 and 10 layers respectively. Intially I have used strides of 2 * 2 and later reduced ro 1 * 1."
   ]
  },
  {
   "cell_type": "markdown",
   "metadata": {},
   "source": [
    "#### 2. Attempts to reduce overfitting in the model"
   ]
  },
  {
   "cell_type": "markdown",
   "metadata": {},
   "source": [
    "Gatherd more data and used augmention to reduce over fiting"
   ]
  },
  {
   "cell_type": "markdown",
   "metadata": {},
   "source": [
    "#### 3. Model parameter tuning"
   ]
  },
  {
   "cell_type": "markdown",
   "metadata": {},
   "source": [
    "No parameter tunning is done as used most of param from nvidi model."
   ]
  },
  {
   "cell_type": "markdown",
   "metadata": {},
   "source": [
    "#### 4. Appropriate training data"
   ]
  },
  {
   "cell_type": "markdown",
   "metadata": {},
   "source": [
    "Trainig data was gathered by driving car in clockwise and anticlock wise as I want model to predict correct angle for left and right turn. I have used a combination of center lane driving, recovering from the left and right sides of the road\n",
    "Additional data was generated through augmentation."
   ]
  },
  {
   "cell_type": "markdown",
   "metadata": {},
   "source": [
    "### Model Architecture and Training Strategy"
   ]
  },
  {
   "cell_type": "markdown",
   "metadata": {},
   "source": [
    "#### 1. Solution Design Approach"
   ]
  },
  {
   "cell_type": "markdown",
   "metadata": {},
   "source": [
    "To find the soltion as provided in lecture collect the training data by driving car on center & left and right side in clockwise and anti clockwise directions.\n",
    "Then combined the data using python script.\n",
    "\n",
    "Then define the nvidi model archtrature with some modification. Added dropout to reduce overfitting and created dense layers at the end.\n",
    "\n",
    "Run the model with adam optimzer and followed the step in lactures.\n",
    "\n",
    "\n",
    "\n"
   ]
  },
  {
   "cell_type": "markdown",
   "metadata": {},
   "source": [
    "#### 2. Final Model Architecture"
   ]
  },
  {
   "cell_type": "markdown",
   "metadata": {},
   "source": [
    "Final architracture defined in model.py from line no 84 to 96"
   ]
  },
  {
   "cell_type": "markdown",
   "metadata": {},
   "source": [
    "#### 3. Creation of the Training Set & Training Process"
   ]
  },
  {
   "cell_type": "markdown",
   "metadata": {},
   "source": [
    "I have collected image from track1 by driving on center and left and right edge of lane and then recovering from them. Below is the image for that\n"
   ]
  },
  {
   "cell_type": "markdown",
   "metadata": {},
   "source": [
    "<img src= \"./IMAGES/0.jpg\" ></img>\n",
    "<img src= \"./IMAGES/1.jpg\" ></img>\n",
    "<img src= \"./IMAGES/2.jpg\" ></img>\n",
    "<img src= \"./IMAGES/3.jpg\" ></img>\n",
    "<img src= \"./IMAGES/4.jpg\" ></img>"
   ]
  },
  {
   "cell_type": "code",
   "execution_count": null,
   "metadata": {},
   "outputs": [],
   "source": []
  }
 ],
 "metadata": {
  "kernelspec": {
   "display_name": "Python 3",
   "language": "python",
   "name": "python3"
  },
  "language_info": {
   "codemirror_mode": {
    "name": "ipython",
    "version": 3
   },
   "file_extension": ".py",
   "mimetype": "text/x-python",
   "name": "python",
   "nbconvert_exporter": "python",
   "pygments_lexer": "ipython3",
   "version": "3.6.7"
  }
 },
 "nbformat": 4,
 "nbformat_minor": 2
}
